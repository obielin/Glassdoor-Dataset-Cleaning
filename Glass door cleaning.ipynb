{
 "cells": [
  {
   "cell_type": "markdown",
   "id": "6574f265",
   "metadata": {},
   "source": [
    "##  Glassdoor DS Jobs Data Cleaning\n",
    "-   This notebook  Jupyter notebook dedicated to cleaning and analyzing a dataset of data science jobs from Glassdoor. The primary goal of this project is to prepare the dataset for further analysis and insights into the data science job market."
   ]
  },
  {
   "cell_type": "markdown",
   "id": "a759cc5a",
   "metadata": {},
   "source": [
    "### Setting Up the Environment\n",
    "-   Install the Kaggle library which will be used to download the dataset directly from Kaggle"
   ]
  },
  {
   "cell_type": "code",
   "execution_count": null,
   "id": "1fe31a06-c6a7-4b47-809d-307c25d640ca",
   "metadata": {},
   "outputs": [
    {
     "name": "stdout",
     "output_type": "stream",
     "text": [
      "Requirement already satisfied: kaggle in c:\\users\\oby\\anaconda3\\lib\\site-packages (1.5.16)\n",
      "Requirement already satisfied: six>=1.10 in c:\\users\\oby\\appdata\\roaming\\python\\python311\\site-packages (from kaggle) (1.16.0)\n",
      "Requirement already satisfied: certifi in c:\\users\\oby\\anaconda3\\lib\\site-packages (from kaggle) (2023.11.17)\n",
      "Requirement already satisfied: python-dateutil in c:\\users\\oby\\appdata\\roaming\\python\\python311\\site-packages (from kaggle) (2.8.2)\n",
      "Requirement already satisfied: requests in c:\\users\\oby\\anaconda3\\lib\\site-packages (from kaggle) (2.31.0)\n",
      "Requirement already satisfied: tqdm in c:\\users\\oby\\anaconda3\\lib\\site-packages (from kaggle) (4.65.0)\n",
      "Requirement already satisfied: python-slugify in c:\\users\\oby\\anaconda3\\lib\\site-packages (from kaggle) (5.0.2)\n",
      "Requirement already satisfied: urllib3 in c:\\users\\oby\\anaconda3\\lib\\site-packages (from kaggle) (1.26.16)\n",
      "Requirement already satisfied: bleach in c:\\users\\oby\\anaconda3\\lib\\site-packages (from kaggle) (4.1.0)\n",
      "Requirement already satisfied: packaging in c:\\users\\oby\\appdata\\roaming\\python\\python311\\site-packages (from bleach->kaggle) (23.1)\n",
      "Requirement already satisfied: webencodings in c:\\users\\oby\\anaconda3\\lib\\site-packages (from bleach->kaggle) (0.5.1)\n",
      "Requirement already satisfied: text-unidecode>=1.3 in c:\\users\\oby\\anaconda3\\lib\\site-packages (from python-slugify->kaggle) (1.3)\n",
      "Requirement already satisfied: charset-normalizer<4,>=2 in c:\\users\\oby\\anaconda3\\lib\\site-packages (from requests->kaggle) (2.0.4)\n",
      "Requirement already satisfied: idna<4,>=2.5 in c:\\users\\oby\\anaconda3\\lib\\site-packages (from requests->kaggle) (3.4)\n",
      "Requirement already satisfied: colorama in c:\\users\\oby\\appdata\\roaming\\python\\python311\\site-packages (from tqdm->kaggle) (0.4.6)\n"
     ]
    }
   ],
   "source": [
    "!pip install kaggle"
   ]
  },
  {
   "cell_type": "markdown",
   "id": "87092d20",
   "metadata": {},
   "source": [
    "### Searching for Datasets\n",
    "-   Using the Kaggle API to search for datasets related to 'Glassdoor'. This helps in identifying the relevant dataset for our analysis."
   ]
  },
  {
   "cell_type": "code",
   "execution_count": null,
   "id": "84ea735e-c8cb-4184-ba66-3ba980af3121",
   "metadata": {
    "tags": []
   },
   "outputs": [
    {
     "name": "stdout",
     "output_type": "stream",
     "text": [
      "ref                                                            title                                                size  lastUpdated          downloadCount  voteCount  usabilityRating  \n",
      "-------------------------------------------------------------  -------------------------------------------------  ------  -------------------  -------------  ---------  ---------------  \n",
      "davidgauthier/glassdoor-job-reviews                            Glassdoor Job Reviews                                84MB  2023-07-04 07:01:00           3371         58  1.0              \n",
      "nilimajauhari/glassdoor-analyze-gender-pay-gap                 Glassdoor- Analyze Gender Pay Gap                    13KB  2020-09-12 10:29:56           5388        101  1.0              \n",
      "andresionek/data-jobs-listings-glassdoor                       Data Jobs Listings - Glassdoor                      452MB  2019-11-21 19:55:11           2107         62  0.9705882        \n",
      "andrewmvd/data-analyst-jobs                                    Data Analyst Jobs                                     2MB  2020-07-14 08:37:57          19087        546  1.0              \n",
      "rashikrahmanpritom/data-science-job-posting-on-glassdoor       Data Science Job Posting on Glassdoor                 2MB  2021-03-09 09:02:45           8343         93  0.8235294        \n",
      "rrkcoder/glassdoor-data-science-job-listings                   Glassdoor Data Science Job Listings                 624KB  2023-10-11 04:01:27            479         30  1.0              \n",
      "andrewmvd/data-scientist-jobs                                  Data Scientist Jobs                                   4MB  2020-07-16 04:04:58           4426        102  1.0              \n",
      "rashikrahmanpritom/heart-attack-analysis-prediction-dataset    Heart Attack Analysis & Prediction Dataset            4KB  2021-03-22 11:40:59         161653       3471  1.0              \n",
      "joyshil0599/glassdoor-company-insightsscraped-data-collection  USA Company Insights: Glassdoor Scraped Data 2023     3MB  2023-05-11 18:03:49            522         29  1.0              \n",
      "selvynmartinez/2019-data-analyst-jobcsv                        Glassdoor Data Analyst Postings 2019                477KB  2021-06-15 20:11:41            354         14  1.0              \n",
      "andrewmvd/data-engineer-jobs                                   Data Engineer Jobs                                    3MB  2020-07-18 05:17:39           2240         39  1.0              \n",
      "nadzmiagthomas/australia-data-science-jobs                     Australia Data Science Jobs                           3MB  2022-12-18 11:27:18           2347         46  0.9705882        \n",
      "milan400/glassdoordata-scientist                               GlassDoor(Data Scientist)                          1016KB  2020-08-01 06:17:16            209         10  0.9117647        \n",
      "defrinogionaldo/glassdoor-jobs-data-analysis                   Glassdoor Jobs Data Analysis                        159KB  2020-10-14 04:13:08            429          9  0.85294116       \n",
      "andrewmvd/business-analyst-jobs                                Business Analyst Job Listings                         4MB  2020-07-17 11:41:05           2052         44  1.0              \n",
      "atharvap329/glassdoor-data-science-job-data                    Glassdoor Job Postings : Data Science                 3MB  2020-05-12 12:27:35           1218         27  0.7352941        \n",
      "mdkamruzzaman23/machine-learning-job-listings-on-glassdoor     Machine Learning Job Listings on Glassdoor            7KB  2023-02-26 07:34:14             56         11  1.0              \n",
      "prasertk/glassdoor-best-jobs-in-usa-from-20152021              Glassdoor 50 best jobs in USA from 2015-2021          4KB  2022-01-09 02:09:07            316         12  1.0              \n",
      "rkb0023/glassdoor-data-science-jobs                            Glassdoor Data Science Jobs                           1MB  2020-06-02 01:56:15            327         10  0.4117647        \n",
      "sunayanagawde/jobs-in-india-from-glassdoor                     Jobs in India from Glassdoor                         23KB  2022-12-30 13:55:36             51         12  0.9411765        \n"
     ]
    }
   ],
   "source": [
    "!kaggle datasets list -s 'Glassdoor'"
   ]
  },
  {
   "cell_type": "markdown",
   "id": "585f0702",
   "metadata": {},
   "source": [
    "### Downloading the Dataset\n",
    "-   Downloading the specific Glassdoor dataset from Kaggle using the identified dataset name. This dataset will be used for the data cleaning process.\n"
   ]
  },
  {
   "cell_type": "code",
   "execution_count": null,
   "id": "3eae1fab-97d4-4be5-9e88-93ad69e7a4c1",
   "metadata": {
    "tags": []
   },
   "outputs": [
    {
     "name": "stdout",
     "output_type": "stream",
     "text": [
      "data-science-job-posting-on-glassdoor.zip: Skipping, found more recently modified local copy (use --force to force download)\n"
     ]
    }
   ],
   "source": [
    "!kaggle datasets download -d \"rashikrahmanpritom/data-science-job-posting-on-glassdoor\""
   ]
  },
  {
   "cell_type": "code",
   "execution_count": null,
   "id": "d4af3b8f-a7a7-4ac1-bf17-01418e58f281",
   "metadata": {
    "tags": []
   },
   "outputs": [],
   "source": [
    "import zipfile\n",
    "with zipfile.ZipFile(\"data-science-job-posting-on-glassdoor.zip\", \"r\") as file:\n",
    "    file.extractall(\"glassdoor\")"
   ]
  },
  {
   "cell_type": "code",
   "execution_count": null,
   "id": "3736f255-3449-43b9-b7a2-075692a9a527",
   "metadata": {
    "tags": []
   },
   "outputs": [
    {
     "data": {
      "text/plain": [
       "['Cleaned_DS_Jobs.csv', 'Uncleaned_DS_jobs.csv']"
      ]
     },
     "execution_count": 5,
     "metadata": {},
     "output_type": "execute_result"
    }
   ],
   "source": [
    "import os\n",
    "os.listdir(\"glassdoor\")"
   ]
  },
  {
   "cell_type": "markdown",
   "id": "59c63f24",
   "metadata": {},
   "source": [
    "### Importing Libraries\n",
    "-   Importing necessary Python libraries and modules. These libraries provide various functions and tools needed for data manipulation and analysis.\n"
   ]
  },
  {
   "cell_type": "code",
   "execution_count": null,
   "id": "b8cb1f51-78e7-444a-936f-3ab7c174415f",
   "metadata": {
    "tags": []
   },
   "outputs": [
    {
     "data": {
      "text/html": [
       "<div>\n",
       "<style scoped>\n",
       "    .dataframe tbody tr th:only-of-type {\n",
       "        vertical-align: middle;\n",
       "    }\n",
       "\n",
       "    .dataframe tbody tr th {\n",
       "        vertical-align: top;\n",
       "    }\n",
       "\n",
       "    .dataframe thead th {\n",
       "        text-align: right;\n",
       "    }\n",
       "</style>\n",
       "<table border=\"1\" class=\"dataframe\">\n",
       "  <thead>\n",
       "    <tr style=\"text-align: right;\">\n",
       "      <th></th>\n",
       "      <th>index</th>\n",
       "      <th>Job Title</th>\n",
       "      <th>Salary Estimate</th>\n",
       "      <th>Job Description</th>\n",
       "      <th>Rating</th>\n",
       "      <th>Company Name</th>\n",
       "      <th>Location</th>\n",
       "      <th>Headquarters</th>\n",
       "      <th>Size</th>\n",
       "      <th>Founded</th>\n",
       "      <th>Type of ownership</th>\n",
       "      <th>Industry</th>\n",
       "      <th>Sector</th>\n",
       "      <th>Revenue</th>\n",
       "      <th>Competitors</th>\n",
       "    </tr>\n",
       "  </thead>\n",
       "  <tbody>\n",
       "    <tr>\n",
       "      <th>0</th>\n",
       "      <td>0</td>\n",
       "      <td>Sr Data Scientist</td>\n",
       "      <td>$137K-$171K (Glassdoor est.)</td>\n",
       "      <td>Description\\n\\nThe Senior Data Scientist is re...</td>\n",
       "      <td>3.1</td>\n",
       "      <td>Healthfirst\\n3.1</td>\n",
       "      <td>New York, NY</td>\n",
       "      <td>New York, NY</td>\n",
       "      <td>1001 to 5000 employees</td>\n",
       "      <td>1993</td>\n",
       "      <td>Nonprofit Organization</td>\n",
       "      <td>Insurance Carriers</td>\n",
       "      <td>Insurance</td>\n",
       "      <td>Unknown / Non-Applicable</td>\n",
       "      <td>EmblemHealth, UnitedHealth Group, Aetna</td>\n",
       "    </tr>\n",
       "    <tr>\n",
       "      <th>1</th>\n",
       "      <td>1</td>\n",
       "      <td>Data Scientist</td>\n",
       "      <td>$137K-$171K (Glassdoor est.)</td>\n",
       "      <td>Secure our Nation, Ignite your Future\\n\\nJoin ...</td>\n",
       "      <td>4.2</td>\n",
       "      <td>ManTech\\n4.2</td>\n",
       "      <td>Chantilly, VA</td>\n",
       "      <td>Herndon, VA</td>\n",
       "      <td>5001 to 10000 employees</td>\n",
       "      <td>1968</td>\n",
       "      <td>Company - Public</td>\n",
       "      <td>Research &amp; Development</td>\n",
       "      <td>Business Services</td>\n",
       "      <td>$1 to $2 billion (USD)</td>\n",
       "      <td>-1</td>\n",
       "    </tr>\n",
       "    <tr>\n",
       "      <th>2</th>\n",
       "      <td>2</td>\n",
       "      <td>Data Scientist</td>\n",
       "      <td>$137K-$171K (Glassdoor est.)</td>\n",
       "      <td>Overview\\n\\n\\nAnalysis Group is one of the lar...</td>\n",
       "      <td>3.8</td>\n",
       "      <td>Analysis Group\\n3.8</td>\n",
       "      <td>Boston, MA</td>\n",
       "      <td>Boston, MA</td>\n",
       "      <td>1001 to 5000 employees</td>\n",
       "      <td>1981</td>\n",
       "      <td>Private Practice / Firm</td>\n",
       "      <td>Consulting</td>\n",
       "      <td>Business Services</td>\n",
       "      <td>$100 to $500 million (USD)</td>\n",
       "      <td>-1</td>\n",
       "    </tr>\n",
       "    <tr>\n",
       "      <th>3</th>\n",
       "      <td>3</td>\n",
       "      <td>Data Scientist</td>\n",
       "      <td>$137K-$171K (Glassdoor est.)</td>\n",
       "      <td>JOB DESCRIPTION:\\n\\nDo you have a passion for ...</td>\n",
       "      <td>3.5</td>\n",
       "      <td>INFICON\\n3.5</td>\n",
       "      <td>Newton, MA</td>\n",
       "      <td>Bad Ragaz, Switzerland</td>\n",
       "      <td>501 to 1000 employees</td>\n",
       "      <td>2000</td>\n",
       "      <td>Company - Public</td>\n",
       "      <td>Electrical &amp; Electronic Manufacturing</td>\n",
       "      <td>Manufacturing</td>\n",
       "      <td>$100 to $500 million (USD)</td>\n",
       "      <td>MKS Instruments, Pfeiffer Vacuum, Agilent Tech...</td>\n",
       "    </tr>\n",
       "    <tr>\n",
       "      <th>4</th>\n",
       "      <td>4</td>\n",
       "      <td>Data Scientist</td>\n",
       "      <td>$137K-$171K (Glassdoor est.)</td>\n",
       "      <td>Data Scientist\\nAffinity Solutions / Marketing...</td>\n",
       "      <td>2.9</td>\n",
       "      <td>Affinity Solutions\\n2.9</td>\n",
       "      <td>New York, NY</td>\n",
       "      <td>New York, NY</td>\n",
       "      <td>51 to 200 employees</td>\n",
       "      <td>1998</td>\n",
       "      <td>Company - Private</td>\n",
       "      <td>Advertising &amp; Marketing</td>\n",
       "      <td>Business Services</td>\n",
       "      <td>Unknown / Non-Applicable</td>\n",
       "      <td>Commerce Signals, Cardlytics, Yodlee</td>\n",
       "    </tr>\n",
       "  </tbody>\n",
       "</table>\n",
       "</div>"
      ],
      "text/plain": [
       "   index          Job Title               Salary Estimate  \\\n",
       "0      0  Sr Data Scientist  $137K-$171K (Glassdoor est.)   \n",
       "1      1     Data Scientist  $137K-$171K (Glassdoor est.)   \n",
       "2      2     Data Scientist  $137K-$171K (Glassdoor est.)   \n",
       "3      3     Data Scientist  $137K-$171K (Glassdoor est.)   \n",
       "4      4     Data Scientist  $137K-$171K (Glassdoor est.)   \n",
       "\n",
       "                                     Job Description  Rating  \\\n",
       "0  Description\\n\\nThe Senior Data Scientist is re...     3.1   \n",
       "1  Secure our Nation, Ignite your Future\\n\\nJoin ...     4.2   \n",
       "2  Overview\\n\\n\\nAnalysis Group is one of the lar...     3.8   \n",
       "3  JOB DESCRIPTION:\\n\\nDo you have a passion for ...     3.5   \n",
       "4  Data Scientist\\nAffinity Solutions / Marketing...     2.9   \n",
       "\n",
       "              Company Name       Location            Headquarters  \\\n",
       "0         Healthfirst\\n3.1   New York, NY            New York, NY   \n",
       "1             ManTech\\n4.2  Chantilly, VA             Herndon, VA   \n",
       "2      Analysis Group\\n3.8     Boston, MA              Boston, MA   \n",
       "3             INFICON\\n3.5     Newton, MA  Bad Ragaz, Switzerland   \n",
       "4  Affinity Solutions\\n2.9   New York, NY            New York, NY   \n",
       "\n",
       "                      Size  Founded        Type of ownership  \\\n",
       "0   1001 to 5000 employees     1993   Nonprofit Organization   \n",
       "1  5001 to 10000 employees     1968         Company - Public   \n",
       "2   1001 to 5000 employees     1981  Private Practice / Firm   \n",
       "3    501 to 1000 employees     2000         Company - Public   \n",
       "4      51 to 200 employees     1998        Company - Private   \n",
       "\n",
       "                                Industry             Sector  \\\n",
       "0                     Insurance Carriers          Insurance   \n",
       "1                 Research & Development  Business Services   \n",
       "2                             Consulting  Business Services   \n",
       "3  Electrical & Electronic Manufacturing      Manufacturing   \n",
       "4                Advertising & Marketing  Business Services   \n",
       "\n",
       "                      Revenue  \\\n",
       "0    Unknown / Non-Applicable   \n",
       "1      $1 to $2 billion (USD)   \n",
       "2  $100 to $500 million (USD)   \n",
       "3  $100 to $500 million (USD)   \n",
       "4    Unknown / Non-Applicable   \n",
       "\n",
       "                                         Competitors  \n",
       "0            EmblemHealth, UnitedHealth Group, Aetna  \n",
       "1                                                 -1  \n",
       "2                                                 -1  \n",
       "3  MKS Instruments, Pfeiffer Vacuum, Agilent Tech...  \n",
       "4               Commerce Signals, Cardlytics, Yodlee  "
      ]
     },
     "execution_count": 6,
     "metadata": {},
     "output_type": "execute_result"
    }
   ],
   "source": [
    "import pandas as pd\n",
    "pd.set_option('display.max_rows', None)\n",
    "pd.set_option('display.max_columns', None)\n",
    "df = pd.read_csv(\"glassdoor/Uncleaned_DS_jobs.csv\")\n",
    "df.head(5)"
   ]
  },
  {
   "cell_type": "markdown",
   "id": "9ecd2d20",
   "metadata": {},
   "source": [
    "### Dataset Overview\n",
    "-   Performing basic exploration of the dataset to understand its structure, columns, and basic statistics. This includes viewing data types, summary statistics, and other relevant information.\n"
   ]
  },
  {
   "cell_type": "code",
   "execution_count": null,
   "id": "548d51c5-5489-4f98-8222-4aec7900e6af",
   "metadata": {
    "tags": []
   },
   "outputs": [
    {
     "name": "stdout",
     "output_type": "stream",
     "text": [
      "<class 'pandas.core.frame.DataFrame'>\n",
      "RangeIndex: 672 entries, 0 to 671\n",
      "Data columns (total 15 columns):\n",
      " #   Column             Non-Null Count  Dtype  \n",
      "---  ------             --------------  -----  \n",
      " 0   index              672 non-null    int64  \n",
      " 1   Job Title          672 non-null    object \n",
      " 2   Salary Estimate    672 non-null    object \n",
      " 3   Job Description    672 non-null    object \n",
      " 4   Rating             672 non-null    float64\n",
      " 5   Company Name       672 non-null    object \n",
      " 6   Location           672 non-null    object \n",
      " 7   Headquarters       672 non-null    object \n",
      " 8   Size               672 non-null    object \n",
      " 9   Founded            672 non-null    int64  \n",
      " 10  Type of ownership  672 non-null    object \n",
      " 11  Industry           672 non-null    object \n",
      " 12  Sector             672 non-null    object \n",
      " 13  Revenue            672 non-null    object \n",
      " 14  Competitors        672 non-null    object \n",
      "dtypes: float64(1), int64(2), object(12)\n",
      "memory usage: 78.9+ KB\n",
      "(672, 15)\n"
     ]
    }
   ],
   "source": [
    "#Examine the data's size, shape, and structure\n",
    "# #Obtain the shape of the data\n",
    "df.info()\n",
    "print(df.shape)"
   ]
  },
  {
   "cell_type": "code",
   "execution_count": null,
   "id": "dcfd4bee-2b34-471c-a00e-b4d62eaa94f1",
   "metadata": {
    "tags": []
   },
   "outputs": [
    {
     "data": {
      "text/plain": [
       "index                0\n",
       "Job Title            0\n",
       "Salary Estimate      0\n",
       "Job Description      0\n",
       "Rating               0\n",
       "Company Name         0\n",
       "Location             0\n",
       "Headquarters         0\n",
       "Size                 0\n",
       "Founded              0\n",
       "Type of ownership    0\n",
       "Industry             0\n",
       "Sector               0\n",
       "Revenue              0\n",
       "Competitors          0\n",
       "dtype: int64"
      ]
     },
     "execution_count": 8,
     "metadata": {},
     "output_type": "execute_result"
    }
   ],
   "source": [
    "#View the missing values in the dataset\n",
    "df.isna().sum()"
   ]
  },
  {
   "cell_type": "markdown",
   "id": "916ade78",
   "metadata": {},
   "source": [
    "### Data Cleaning\n",
    "-   Cleaning the dataset by handling missing values, removing unnecessary columns, or replacing incorrect values. This step is crucial for ensuring the quality and accuracy of the data.\n"
   ]
  },
  {
   "cell_type": "code",
   "execution_count": null,
   "id": "ae74404d-7e11-4132-a212-157a3c1fce06",
   "metadata": {
    "tags": []
   },
   "outputs": [
    {
     "name": "stdout",
     "output_type": "stream",
     "text": [
      "False\n"
     ]
    }
   ],
   "source": [
    "#Check duplicates\n",
    "dupe = df.duplicated().any()\n",
    "print (dupe)"
   ]
  },
  {
   "cell_type": "code",
   "execution_count": null,
   "id": "21fed76c-d602-463c-9391-b6626c1b2fdb",
   "metadata": {
    "tags": []
   },
   "outputs": [],
   "source": [
    "# Change the naming style on the column names \n",
    "df.columns=df.columns.str.replace(' ','_')"
   ]
  },
  {
   "cell_type": "code",
   "execution_count": null,
   "id": "9cc37d91-5cff-4d10-a11e-bc258dc3ab40",
   "metadata": {
    "tags": []
   },
   "outputs": [],
   "source": [
    "# Remove newline characters from all columns\n",
    "df = df.applymap(lambda x: x.replace('\\n', '') if isinstance(x, str) else x)"
   ]
  },
  {
   "cell_type": "code",
   "execution_count": null,
   "id": "736205d9-1a2f-4a2e-a1ac-a471fed0952d",
   "metadata": {
    "tags": []
   },
   "outputs": [],
   "source": [
    "# Removing the ratings from the 'Company_Name' column\n",
    "# This regex matches a sequence of digits (\\d+), followed by a decimal point (\\.), and then more digits (\\d+), at the end of the string ($)\n",
    "df['Company_Name'] = df['Company_Name'].str.replace(r'\\d+\\.\\d+$', '', regex=True)"
   ]
  },
  {
   "cell_type": "code",
   "execution_count": null,
   "id": "a9883322-7bf5-431a-8377-7b05bedc6d23",
   "metadata": {
    "tags": []
   },
   "outputs": [],
   "source": [
    "#Clean the salary estimate column\n",
    "# Function to convert K-format salary to numeric\n",
    "def k_to_numeric(value):\n",
    "    if pd.isna(value):\n",
    "        return None\n",
    "    if 'K' in value:\n",
    "        return float(value.replace('K', '').replace('$', '')) * 1000\n",
    "    return float(value)\n",
    "\n",
    "# Cleaning the 'Salary Estimate' column\n",
    "df['Minimum_Salary'] = df['Salary_Estimate'].str.extract(r'(\\$\\d+K)-').squeeze().apply(k_to_numeric)\n",
    "df['Maximum_Salary'] = df['Salary_Estimate'].str.extract(r'-(\\$\\d+K)').squeeze().apply(k_to_numeric)\n",
    "\n",
    "# Calculating the average salary\n",
    "df['Average_Salary'] = df[['Minimum_Salary', 'Maximum_Salary']].mean(axis=1)\n",
    "\n",
    "#Drop the salary estimate column\n",
    "df = df.drop ('Salary_Estimate', axis=1)"
   ]
  },
  {
   "cell_type": "code",
   "execution_count": null,
   "id": "5c5c19e3-5628-4b34-a315-058000982dc4",
   "metadata": {
    "tags": []
   },
   "outputs": [
    {
     "data": {
      "text/plain": [
       "array(['New York, NY', 'Chantilly, VA', 'Boston, MA', 'Newton, MA',\n",
       "       'Santa Barbara, CA', 'Cambridge, MA', 'Bedford, MA',\n",
       "       'San Diego, CA', 'Chicago, IL', 'Herndon, VA', 'Saint Louis, MO',\n",
       "       'Richland, WA', 'Northbrook, IL', 'Washington, DC', 'Remote',\n",
       "       'Memphis, TN', 'Plano, TX', 'West Grove, PA', 'Phoenix, AZ',\n",
       "       'Appleton, WI', 'Atlanta, GA', 'Orlando, FL', 'Lexington, MA',\n",
       "       'McLean, VA', 'San Francisco, CA', 'Sheboygan, WI',\n",
       "       'United States', 'Bothell, WA', 'Lincoln, NE', 'Overland Park, KS',\n",
       "       'Santa Monica, CA', 'Portsmouth, NH', 'Ewing, NJ',\n",
       "       'South San Francisco, CA', 'Palo Alto, CA', 'Bellevue, WA',\n",
       "       'New Orleans, LA', 'Akron, OH', 'Fort Wayne, IN', 'Woburn, MA',\n",
       "       'Carson, CA', 'Coral Gables, FL', 'Santa Clara, CA',\n",
       "       'Brisbane, CA', 'Winter Park, FL', 'Redwood City, CA',\n",
       "       'Peoria, IL', 'Ipswich, MA', 'Carmel, IN', 'Emeryville, CA',\n",
       "       'Gaithersburg, MD', 'Longmont, CO', 'Austin, TX', 'Yakima, WA',\n",
       "       'Santa Cruz, CA', 'Springfield, VA', 'Alexandria, VA', 'Utah',\n",
       "       'Reston, VA', 'Denver, CO', 'New Jersey', 'Aurora, CO',\n",
       "       'Hill AFB, UT', 'Chandler, AZ', 'Indianapolis, IN',\n",
       "       'Nashville, TN', 'Timonium, MD', 'Burlingame, CA',\n",
       "       'Annapolis Junction, MD', 'Bethesda, MD', 'Dayton, OH',\n",
       "       'Schaumburg, IL', 'Cupertino, CA', 'Lehi, UT', 'Culver City, CA',\n",
       "       'Lake Oswego, OR', 'San Mateo, CA', 'Holyoke, MA',\n",
       "       'Woodbridge, NJ', 'Dearborn, MI', 'Maryland Heights, MO',\n",
       "       'Rockville, MD', 'Carpinteria, CA', 'Columbia, SC',\n",
       "       'Hauppauge, NY', 'Fort Meade, MD', 'Columbia, MO', 'Vicksburg, MS',\n",
       "       'Birmingham, AL', 'Blue Bell, PA', 'Cincinnati, OH',\n",
       "       'Harrisburg, PA', 'Oak Ridge, TN', 'San Carlos, CA', 'Waltham, MA',\n",
       "       'Fort Worth, TX', 'Smithfield, RI', 'Cedar Rapids, IA',\n",
       "       'Fort Belvoir, VA', 'Linthicum Heights, MD', 'Maple Plain, MN',\n",
       "       'Tulsa, OK', 'Baltimore, MD', 'Oklahoma City, OK',\n",
       "       'Scotts Valley, CA', 'Spartanburg, SC', 'Hartford, CT',\n",
       "       'Beavercreek, OH', 'Norfolk, VA', 'Charlotte, NC', 'Champaign, IL',\n",
       "       'Texas', 'Hoboken, NJ', 'Lebanon, IN', 'Oakland, CA',\n",
       "       'Melbourne, FL', 'Cleveland, OH', 'Norwell, MA', 'San Jose, CA',\n",
       "       'Piscataway, NJ', 'Danvers, MA', 'Vienna, VA', 'Livermore, CA',\n",
       "       'Pittsburgh, PA', 'Irvine, CA', 'Oshkosh, WI', 'Menlo Park, CA',\n",
       "       'Dallas, TX', 'Arlington, VA', 'Monroe, WI', 'Sacramento, CA',\n",
       "       'Hampton, VA', 'Richmond, VA', 'Monterey, CA', 'Woodlawn, MD',\n",
       "       'Ann Arbor, MI', 'Concord, CA', 'Durham, NC', 'Kent, OH',\n",
       "       'Laurel, MD', 'Columbia, MD', 'Falls Church, VA',\n",
       "       'Thousand Oaks, CA', 'Edison, NJ', 'Adelphi, MD', 'Seattle, WA',\n",
       "       'Sunnyvale, CA', 'Fremont, CA', 'Hamilton, NJ', 'Huntsville, AL',\n",
       "       'Merrifield, VA', 'Madison, WI', 'Philadelphia, PA',\n",
       "       'Winston-Salem, NC', 'Raleigh, NC', 'Burbank, CA', 'San Ramon, CA',\n",
       "       'Oxnard, CA', 'Kansas City, MO', 'Jersey City, NJ',\n",
       "       'Manchester, NH', 'Winters, TX', 'Brooklyn, NY', 'Germantown, MD',\n",
       "       'Omaha, NE', 'Open Fork, VA', 'Ashburn, VA', 'Lombard, IL',\n",
       "       'Alpharetta, GA', 'Boulder, CO', 'Mountain View, CA',\n",
       "       'Trumbull, CT', 'Sterling, VA', 'Foster City, CA', 'Frederick, MD',\n",
       "       'Colorado Springs, CO', 'Southfield, MI', 'San Clemente, CA',\n",
       "       'The Woodlands, TX', 'Pleasanton, CA', 'Wilmington, DE',\n",
       "       'Fort Sam Houston, TX', 'Lexington Park, MD',\n",
       "       'Patuxent, Anne Arundel, MD', 'Fairfax, VA', 'San Antonio, TX',\n",
       "       'Silver Spring, MD', 'Portland, OR', 'Simi Valley, CA',\n",
       "       'New Bedford, MA', 'Rancho Cucamonga, CA', 'Collegeville, PA',\n",
       "       'Minneapolis, MN', 'Gahanna, OH', 'California', 'Wellesley, MA',\n",
       "       'Washington, VA', 'Orange, CA', 'Bridgeport, WV', 'Oakville, CA',\n",
       "       'Naperville, IL', 'Houston, TX', 'Redmond, WA', 'West Chester, PA',\n",
       "       'Quantico, VA', 'Fort Lee, NJ', 'Irwindale, CA'], dtype=object)"
      ]
     },
     "execution_count": 15,
     "metadata": {},
     "output_type": "execute_result"
    }
   ],
   "source": [
    "# Examine the Location column to check the unique values\n",
    "df['Location'].unique()"
   ]
  },
  {
   "cell_type": "code",
   "execution_count": null,
   "id": "9bd85ddf-ea75-453a-b1b7-650b25fee4bb",
   "metadata": {
    "tags": []
   },
   "outputs": [],
   "source": [
    "#Reorder the columns in the dataframe\n",
    "# State codes mapping\n",
    "state_codes = {\n",
    "    'AL': 'Alabama', 'AK': 'Alaska', 'AZ': 'Arizona', 'AR': 'Arkansas', 'CA': 'California', \n",
    "    'CO': 'Colorado', 'CT': 'Connecticut', 'DE': 'Delaware', 'FL': 'Florida', 'GA': 'Georgia', \n",
    "    'HI': 'Hawaii', 'ID': 'Idaho', 'IL': 'Illinois', 'IN': 'Indiana', 'IA': 'Iowa', \n",
    "    'KS': 'Kansas', 'KY': 'Kentucky', 'LA': 'Louisiana', 'ME': 'Maine', 'MD': 'Maryland', \n",
    "    'MA': 'Massachusetts', 'MI': 'Michigan', 'MN': 'Minnesota', 'MS': 'Mississippi', 'MO': 'Missouri', \n",
    "    'MT': 'Montana', 'NE': 'Nebraska', 'NV': 'Nevada', 'NH': 'New Hampshire', 'NJ': 'New Jersey', \n",
    "    'NM': 'New Mexico', 'NY': 'New York', 'NC': 'North Carolina', 'ND': 'North Dakota', 'OH': 'Ohio', \n",
    "    'OK': 'Oklahoma', 'OR': 'Oregon', 'PA': 'Pennsylvania', 'RI': 'Rhode Island', 'SC': 'South Carolina', \n",
    "    'SD': 'South Dakota', 'TN': 'Tennessee', 'TX': 'Texas', 'UT': 'Utah', 'US': 'United States', 'VT': 'Vermont', \n",
    "    'VA': 'Virginia', 'WA': 'Washington', 'WV': 'West Virginia', 'WI': 'Wisconsin', 'WY': 'Wyoming'\n",
    "}\n",
    "\n",
    "# Invert the mapping\n",
    "state_codes = {v: k for k, v in state_codes.items()}\n",
    "\n",
    "# Extract city and state\n",
    "df['City'] = df['Location'].str.split(', ').str[0]\n",
    "df['Job State'] = df['Location'].str.split(', ').str[-1]\n",
    "\n",
    "# Convert full state names to codes and handle unmapped states\n",
    "df['Job State'] = df['Job State'].apply(lambda x: state_codes.get(x, x))\n",
    "\n",
    "# Remove rows for 'Remote' and 'Utah'\n",
    "df = df[~df['Location'].str.contains('Remote|Utah', na=False)]\n",
    "\n",
    "# Drop the original 'Location' column\n",
    "df.drop('Location', axis=1, inplace=True)"
   ]
  },
  {
   "cell_type": "code",
   "execution_count": null,
   "id": "a6c52789-e32e-4fcd-ae8f-4779ca060db1",
   "metadata": {
    "tags": []
   },
   "outputs": [],
   "source": [
    "#Split the 'Headquarters' column into 'City' and 'State/Country'.\n",
    "#Handle special cases like '-1' appropriately.\n",
    "# Split 'Headquarters' into 'City' and 'State/Country'\n",
    "df[['HQ_City', 'Country_HQ']] = df['Headquarters'].str.split(', ', expand=True)\n",
    "\n",
    "# Drop the temporary Headquarters column\n",
    "df.drop('Headquarters', axis=1, inplace=True)"
   ]
  },
  {
   "cell_type": "code",
   "execution_count": null,
   "id": "16415cb3-9cfb-4140-a9dd-976daf558c48",
   "metadata": {
    "tags": []
   },
   "outputs": [],
   "source": [
    "from datetime import datetime\n",
    "import numpy as np\n",
    "df['Founded']=np.where(df['Founded']==-1,0,df['Founded'])\n",
    "# Calculate the company age using the current year\n",
    "current_year = datetime.now().year\n",
    "df['company_age'] = current_year - df['Founded']\n",
    "df.drop('Founded', axis=1, inplace=True)"
   ]
  },
  {
   "cell_type": "code",
   "execution_count": null,
   "id": "9aa9b736-fffd-45a5-8a38-9e0e912b73bd",
   "metadata": {
    "tags": []
   },
   "outputs": [
    {
     "data": {
      "text/plain": [
       "Job_Title\n",
       "Data Scientist                                                                                      337\n",
       "Data Engineer                                                                                        26\n",
       "Senior Data Scientist                                                                                19\n",
       "Machine Learning Engineer                                                                            14\n",
       "Data Analyst                                                                                         12\n",
       "Senior Data Analyst                                                                                   6\n",
       "Senior Data Engineer                                                                                  5\n",
       "ENGINEER - COMPUTER SCIENTIST - RESEARCH COMPUTER SCIENTIST - SIGNAL PROCESSING - SAN ANTONIO OR      4\n",
       "Data Science Software Engineer                                                                        4\n",
       "Data Scientist - TS/SCI FSP or CI Required                                                            4\n",
       "Data Scientist - TS/SCI Required                                                                      3\n",
       "Principal Data Scientist                                                                              3\n",
       "Senior Business Intelligence Analyst                                                                  3\n",
       "AI Ops Data Scientist                                                                                 3\n",
       "Data Modeler (Analytical Systems)                                                                     3\n",
       "Senior Data Scientist – Image Analytics, Novartis AI Innovation Lab                                   3\n",
       "Analytics - Business Assurance Data Analyst                                                           3\n",
       "Sr. ML/Data Scientist - AI/NLP/Chatbot                                                                3\n",
       "Senior Machine Learning Scientist - Bay Area, CA                                                      3\n",
       "Lead Data Scientist                                                                                   3\n",
       "Decision Scientist                                                                                    3\n",
       "Data Engineer - Kafka                                                                                 2\n",
       "Applied Computer Scientist                                                                            2\n",
       "Scientist / Group Lead, Cancer Biology                                                                2\n",
       "Data Scientist(s)/Machine Learning Engineer                                                           2\n",
       "Research Scientist - Patient-Centered Research (Remote)                                               2\n",
       "Sr. Data Scientist II                                                                                 2\n",
       "Computational Behavioral Scientist                                                                    2\n",
       "Principal Data Scientist - Machine Learning                                                           2\n",
       "Principal Machine Learning Scientist                                                                  2\n",
       "Senior Data Scientist - R&D Oncology                                                                  2\n",
       "Health Plan Data Analyst, Sr                                                                          2\n",
       "Senior Machine Learning Engineer                                                                      2\n",
       "Senior Scientist - Toxicologist - Product Integrity (Stewardship)                                     2\n",
       "Cloud Data Engineer (Azure)                                                                           2\n",
       "In-Line Inspection Data Analyst                                                                       2\n",
       "VP, Data Science                                                                                      2\n",
       "Weapons and Sensors Engineer/Scientist                                                                2\n",
       "Data Scientist (TS/SCI w/ Poly)                                                                       2\n",
       "Computer Vision / Deep Learning Scientist                                                             2\n",
       "IT Partner Digital Health Technology and Data Science                                                 2\n",
       "Senior Data Analyst - Finance & Platform Analytics                                                    2\n",
       "Data Engineer (Analytics, SQL, Python, AWS)                                                           2\n",
       "Intelligence Data Analyst, Senior                                                                     2\n",
       "Analytics Manager - Data Mart                                                                         2\n",
       "Sr. Data Scientist                                                                                    2\n",
       "Scientist - Machine Learning                                                                          2\n",
       "Machine Learning Engineer/Scientist                                                                   2\n",
       "Data Analyst - Unilever Prestige                                                                      2\n",
       "Sr Data Scientist                                                                                     2\n",
       "Name: count, dtype: int64"
      ]
     },
     "execution_count": 19,
     "metadata": {},
     "output_type": "execute_result"
    }
   ],
   "source": [
    "# Examine the Location column to check the unique values\n",
    "df['Job_Title'].value_counts()[:50]"
   ]
  },
  {
   "cell_type": "markdown",
   "id": "a66cdc62",
   "metadata": {},
   "source": [
    "###  Simplifying Job Titles\n",
    "-   Define the `title_simplifier` function. This function is designed to categorize various job titles into broader, standardized categories. It simplifies the job titles by searching for key terms within each title and assigning a more generalized title. This is particularly useful in standardizing the data for analysis, ensuring that similar job titles are grouped together.\n",
    "\n",
    "-   For example, any title containing 'data scientist' is categorized as 'Data Scientist', and similar logic is applied for other roles like 'Data Engineer', 'Data Analyst', etc. This simplification process aids in making the dataset more uniform and easier to analyze.\n",
    "\n",
    "-   After defining the function, we apply it to the 'Job_Title' column of our DataFrame, creating a new column 'job_title_simp' that holds the simplified job titles.\n"
   ]
  },
  {
   "cell_type": "code",
   "execution_count": null,
   "id": "382d1c82-99c4-4b49-88f6-6976ec125dc0",
   "metadata": {
    "tags": []
   },
   "outputs": [],
   "source": [
    "# Define the title_simplifier function\n",
    "def title_simplifier(title):\n",
    "    if 'data scientist' in title.lower():\n",
    "        return 'Data Scientist'\n",
    "    elif 'data engineer' in title.lower():\n",
    "        return 'Data Engineer'\n",
    "    elif 'analyst' in title.lower():\n",
    "        return 'Data Analyst'\n",
    "    elif 'machine learning' in title.lower():\n",
    "        return 'Machine Learning Engineer'\n",
    "    elif 'manager' in title.lower():\n",
    "        return 'Manager'\n",
    "    elif 'director' in title.lower():\n",
    "        return 'director'\n",
    "    elif 'vice president' in title.lower():\n",
    "        return 'VP'\n",
    "    elif 'data modeler' in title.lower():\n",
    "        return 'Data Engineer'\n",
    "    elif 'data integration' in title.lower():\n",
    "        return 'Data Engineer'\n",
    "    elif 'statistical scientist' in title.lower():\n",
    "        return 'Data Scientist'\n",
    "    elif 'Analytics' in title.lower():\n",
    "        return 'Data Analyst'\n",
    "    elif 'Architect' in title.lower():\n",
    "        return 'Data Engineer'\n",
    "    else:\n",
    "        return 'NA'\n",
    "\n",
    "\n",
    "# Apply the title_simplifier function to the 'Job_Title' column\n",
    "df['job_title_simp'] = df['Job_Title'].apply(title_simplifier)\n"
   ]
  },
  {
   "cell_type": "code",
   "execution_count": null,
   "id": "da3e9e7c-91d2-4368-bf64-7ac3824e41e2",
   "metadata": {
    "tags": []
   },
   "outputs": [
    {
     "data": {
      "text/plain": [
       "array(['Unknown / Non-Applicable', '$1 to $2 billion (USD)',\n",
       "       '$100 to $500 million (USD)', '$10+ billion (USD)',\n",
       "       '$2 to $5 billion (USD)', '$500 million to $1 billion (USD)',\n",
       "       '$5 to $10 billion (USD)', '$10 to $25 million (USD)',\n",
       "       '$25 to $50 million (USD)', '$50 to $100 million (USD)',\n",
       "       '$1 to $5 million (USD)', '$5 to $10 million (USD)',\n",
       "       'Less than $1 million (USD)', '-1'], dtype=object)"
      ]
     },
     "execution_count": 32,
     "metadata": {},
     "output_type": "execute_result"
    }
   ],
   "source": [
    "df['Revenue'].unique()"
   ]
  },
  {
   "cell_type": "markdown",
   "id": "8fd4c10e",
   "metadata": {},
   "source": [
    "### Categorizing Company Revenue\n",
    "-   This section introduces the `categorize_revenue_dict` function, which is designed to categorize company revenue into more manageable groups. The function takes a revenue string as input and returns a simplified revenue category. This categorization is based on predefined revenue ranges stored in a dictionary, making the function easy to read and modify if necessary.\n",
    "\n",
    "-   The dictionary `revenue_ranges` defines several revenue brackets, such as \"1 to 10+ Billion USD\", \"25 to 999 Million USD\", and others, which help in standardizing revenue data into broader categories. This is particularly useful for analysis purposes, as it simplifies the diversity of revenue figures into a few standard categories, making it easier to perform comparisons and draw insights.\n",
    "\n",
    "-   After defining this function, it is appied to the 'Revenue' column in our DataFrame. The result is stored in a new column, 'Revenue_Category', which contains the categorized revenue data. This step is crucial for preparing the dataset for further analysis where revenue categories might play a significant role.\n"
   ]
  },
  {
   "cell_type": "code",
   "execution_count": null,
   "id": "49c724fe-9453-4012-8b96-300465448143",
   "metadata": {
    "tags": []
   },
   "outputs": [],
   "source": [
    "\n",
    "def categorize_revenue_dict(revenue):\n",
    " \"\"\"\n",
    " Categorizes revenue based on predefined ranges using a dictionary for better readability.\n",
    "\n",
    " Args:\n",
    "     revenue: A string representing the revenue amount.\n",
    "\n",
    " Returns:\n",
    "     A string representing the categorized revenue range.\n",
    " \"\"\"\n",
    "\n",
    " revenue_ranges = {\n",
    "     \"Unknown / Non-Applicable\": \"Unknown\",\n",
    "     \"['$1 to $2 billion (USD)', '$2 to $5 billion (USD)', '$5 to $10 billion (USD)', '$10+ Billion (USD)']\": \"1 to 10+ Billion USD\",\n",
    "     \"['$500 million to $1 billion (USD)', '$100 to $500 million (USD)', '$50 to $100 million (USD)', '$25 to $50 million (USD)']\": \"25 to 999 Million USD\",\n",
    "     \"['$10 to $25 million (USD)', '$5 to $10 million (USD)', '$1 to $5 million (USD)']\": \"25 to 900 Million USD\",\n",
    "     \"Less than $1 million (USD)\": \"Less than a million USD\",\n",
    " }\n",
    "\n",
    " for range_str, category in revenue_ranges.items():\n",
    "   if revenue in range_str:\n",
    "     return category\n",
    "\n",
    " return \"Other\"\n",
    "\n",
    "# Apply the function to your DataFrame\n",
    "df['Revenue_Category'] = df['Revenue'].apply(categorize_revenue_dict)"
   ]
  },
  {
   "cell_type": "code",
   "execution_count": null,
   "id": "9628d703-dc48-4e87-8539-34858f9c0c65",
   "metadata": {
    "tags": []
   },
   "outputs": [
    {
     "data": {
      "text/plain": [
       "array(['EmblemHealth, UnitedHealth Group, Aetna', '-1',\n",
       "       'MKS Instruments, Pfeiffer Vacuum, Agilent Technologies',\n",
       "       'Commerce Signals, Cardlytics, Yodlee',\n",
       "       'Square, PayPal, H&R Block',\n",
       "       'Leidos, CACI International, Booz Allen Hamilton',\n",
       "       'Slalom, Daugherty Business Solutions',\n",
       "       'Oak Ridge National Laboratory, National Renewable Energy Lab, Los Alamos National Laboratory',\n",
       "       'CDW, PCM, SHI International',\n",
       "       'Crossix Solutions Inc., AppNexus, The Trade Desk',\n",
       "       'Northwestern Mutual', 'Puppet, Ansible, SaltStack',\n",
       "       'Enlivant, Sunrise Senior Living, Brookdale Senior Living',\n",
       "       'TrueCar, Cars.com, Kelley Blue Book',\n",
       "       'Travelers, Allstate, State Farm', 'Novartis, Baxter, Pfizer',\n",
       "       'Skyhigh Networks, Zscaler, NortonLifeLock',\n",
       "       'Facebook, Google, Pinterest', 'DoorDash, Uber, Grubhub',\n",
       "       'Munich Re, Hannover RE, SCOR', \"IMAGE Skincare, Aveda, Kiehl's\",\n",
       "       'Luxoft, EPAM, Capgemini Invent', 'Sequenom',\n",
       "       'Linqia, Collective Bias', 'John Deere, Komatsu, CNH Industrial',\n",
       "       'Thermo Fisher Scientific, Enzymatics, Illumina',\n",
       "       'CUNA Mutual, SWBC, Overby-Seawell', 'Zola Registry',\n",
       "       'Colony Specialty, Markel, RLI',\n",
       "       'Roche, GlaxoSmithKline, Novartis',\n",
       "       'Solution Design Group, Intertech (Minnesota)',\n",
       "       'Braintree, Authorize.Net, PayPal', 'Nielsen, Zappi, SurveyMonkey',\n",
       "       'The World Bank, IMF', 'Booz Allen Hamilton, CACI International',\n",
       "       'Booz Allen Hamilton, SAIC, LMI', 'Epic, CipherHealth',\n",
       "       'Copper River Shared Services, Chenega Corporation, Deloitte',\n",
       "       'Battelle, General Atomics, SAIC', 'IQVIA, ICON',\n",
       "       'Arbella Insurance, Safety Insurance',\n",
       "       'Engagio, Bombora, Terminus', 'SAIC, Leidos, Northrop Grumman',\n",
       "       'Bosch, Lear Corporation, Faurecia', 'Covance, ICON',\n",
       "       'Adecco, ManpowerGroup, Allegis Corporation',\n",
       "       'GE Digital, Palantir Technologies, Uptake', 'PRA Group',\n",
       "       'Genomic Health, 23andMe, Illumina',\n",
       "       'Bromium, FireEye, Authentic8', 'Drip, iContact, Mailchimp',\n",
       "       \"Children's Health, Texas Health Resources, Baylor Scott & White Health\",\n",
       "       'Harris, Fibertek', 'Monster Worldwide, CareerBuilder, Craigslist',\n",
       "       'Los Alamos National Laboratory, Battelle, SRI International',\n",
       "       'ManTech, Booz Allen Hamilton, Leidos',\n",
       "       'Lumentum Operations, Keysight Technologies, O-Net Technologies',\n",
       "       'Square, Amazon, Apple', 'Pfizer, GlaxoSmithKline',\n",
       "       'DHL Supply Chain, UPS, FedEx',\n",
       "       'Raytheon Technologies, General Dynamics, MIT Lincoln Laboratory',\n",
       "       'Eaton, SMC Corporation, Bosch Rexroth',\n",
       "       'Advisory Board, Booz Allen Hamilton, McKinsey & Company',\n",
       "       'Amazon, Apple', 'Covidien, Boston Scientific', 'AT&T, Verizon',\n",
       "       'Los Alamos National Laboratory, NASA Jet Propulsion Laboratory, Sandia National Laboratories',\n",
       "       'Fluor, Bechtel, AECOM', 'Intertek, SGS, Bureau Veritas',\n",
       "       'Lockheed Martin, Caterpillar, John Deere',\n",
       "       'Activision Blizzard, Electronic Arts',\n",
       "       'MediaMath, Conversant, AppNexus', 'Pfizer, AstraZeneca, Merck',\n",
       "       'Archibus, iOffice, Planon',\n",
       "       'ACRT Services, Bartlett Tree Experts',\n",
       "       'TASC, Vencore, Booz Allen Hamilton',\n",
       "       'Seagate Technology, Toshiba',\n",
       "       'Raytheon Technologies, Northrop Grumman, Booz Allen Hamilton',\n",
       "       'MIT Lincoln Laboratory, Lockheed Martin, Northrop Grumman',\n",
       "       'Kforce, PageGroup, Robert Half',\n",
       "       'TEKsystems, Kforce, Randstad US',\n",
       "       'South Carolina Electric & Gas, Virginia Electric and Power',\n",
       "       'Cadence Design Systems, Synopsys, Altium Limited',\n",
       "       'CGI (Nevada), Accenture, Deloitte', 'Accenture, Deloitte, PwC',\n",
       "       'Bechtel Jacobs, Black & Veatch, HNTB', 'Adecco, Manpower',\n",
       "       'Acxiom, Merkle, Epsilon (North Carolina)',\n",
       "       'Amazon, Accenture, Microsoft',\n",
       "       'Booz Allen Hamilton, Deloitte, ERPi',\n",
       "       'TEKsystems, Insight Global, Accenture',\n",
       "       'H&M, Inditex, Fast Retailing',\n",
       "       'Novartis, AstraZeneca, Siemens Healthineers',\n",
       "       'Aquent, 24 Seven Talent',\n",
       "       'Google, Microsoft, Samsung Electronics',\n",
       "       'AppDynamics, Datadog, Dynatrace',\n",
       "       'Liberty Mutual Insurance, EMPLOYERS, Travelers',\n",
       "       'KPMG, Accenture, Deloitte',\n",
       "       'General Atomics, Boeing, Northrop Grumman',\n",
       "       'Los Alamos National Laboratory, Lawrence Livermore National Laboratory',\n",
       "       'Cognizant Technology Solutions, Infosys, Wipro', 'Humana',\n",
       "       'Accenture, Northrop Grumman, Xerox',\n",
       "       'United Natural Foods, US Foods, DPI Specialty Foods',\n",
       "       'LivePerson, Salesforce, SAP', 'Zurich Insurance, AXA XL, Allianz',\n",
       "       'CSC, ManTech, SAIC',\n",
       "       'Genomic Health, Myriad Genetics, The Broad Institute'],\n",
       "      dtype=object)"
      ]
     },
     "execution_count": 36,
     "metadata": {},
     "output_type": "execute_result"
    }
   ],
   "source": [
    "df['Competitors'].unique()"
   ]
  },
  {
   "cell_type": "code",
   "execution_count": null,
   "id": "1a600831-b120-461a-9cf1-472f6769e1f5",
   "metadata": {
    "tags": []
   },
   "outputs": [],
   "source": [
    "#Drop the salary estimate column\n",
    "df = df.drop ('Competitors', axis=1)"
   ]
  },
  {
   "cell_type": "code",
   "execution_count": null,
   "id": "86c8a11c-bc3b-402a-aa7c-d22df05fd57a",
   "metadata": {
    "tags": []
   },
   "outputs": [
    {
     "data": {
      "text/html": [
       "<div>\n",
       "<style scoped>\n",
       "    .dataframe tbody tr th:only-of-type {\n",
       "        vertical-align: middle;\n",
       "    }\n",
       "\n",
       "    .dataframe tbody tr th {\n",
       "        vertical-align: top;\n",
       "    }\n",
       "\n",
       "    .dataframe thead th {\n",
       "        text-align: right;\n",
       "    }\n",
       "</style>\n",
       "<table border=\"1\" class=\"dataframe\">\n",
       "  <thead>\n",
       "    <tr style=\"text-align: right;\">\n",
       "      <th></th>\n",
       "      <th>index</th>\n",
       "      <th>Job_Title</th>\n",
       "      <th>Job_Description</th>\n",
       "      <th>Rating</th>\n",
       "      <th>Company_Name</th>\n",
       "      <th>Size</th>\n",
       "      <th>Type_of_ownership</th>\n",
       "      <th>Industry</th>\n",
       "      <th>Sector</th>\n",
       "      <th>Revenue</th>\n",
       "      <th>Minimum_Salary</th>\n",
       "      <th>Maximum_Salary</th>\n",
       "      <th>Average_Salary</th>\n",
       "      <th>City</th>\n",
       "      <th>Job State</th>\n",
       "      <th>HQ_City</th>\n",
       "      <th>Country_HQ</th>\n",
       "      <th>company_age</th>\n",
       "      <th>job_title_simp</th>\n",
       "      <th>Revenue_Category</th>\n",
       "    </tr>\n",
       "  </thead>\n",
       "  <tbody>\n",
       "    <tr>\n",
       "      <th>0</th>\n",
       "      <td>0</td>\n",
       "      <td>Sr Data Scientist</td>\n",
       "      <td>DescriptionThe Senior Data Scientist is respon...</td>\n",
       "      <td>3.1</td>\n",
       "      <td>Healthfirst</td>\n",
       "      <td>1001 to 5000 employees</td>\n",
       "      <td>Nonprofit Organization</td>\n",
       "      <td>Insurance Carriers</td>\n",
       "      <td>Insurance</td>\n",
       "      <td>Unknown / Non-Applicable</td>\n",
       "      <td>137000.0</td>\n",
       "      <td>171000.0</td>\n",
       "      <td>154000.0</td>\n",
       "      <td>New York</td>\n",
       "      <td>NY</td>\n",
       "      <td>New York</td>\n",
       "      <td>NY</td>\n",
       "      <td>30</td>\n",
       "      <td>Data Scientist</td>\n",
       "      <td>Unknown</td>\n",
       "    </tr>\n",
       "    <tr>\n",
       "      <th>1</th>\n",
       "      <td>1</td>\n",
       "      <td>Data Scientist</td>\n",
       "      <td>Secure our Nation, Ignite your FutureJoin the ...</td>\n",
       "      <td>4.2</td>\n",
       "      <td>ManTech</td>\n",
       "      <td>5001 to 10000 employees</td>\n",
       "      <td>Company - Public</td>\n",
       "      <td>Research &amp; Development</td>\n",
       "      <td>Business Services</td>\n",
       "      <td>$1 to $2 billion (USD)</td>\n",
       "      <td>137000.0</td>\n",
       "      <td>171000.0</td>\n",
       "      <td>154000.0</td>\n",
       "      <td>Chantilly</td>\n",
       "      <td>VA</td>\n",
       "      <td>Herndon</td>\n",
       "      <td>VA</td>\n",
       "      <td>55</td>\n",
       "      <td>Data Scientist</td>\n",
       "      <td>1 to 10+ Billion USD</td>\n",
       "    </tr>\n",
       "    <tr>\n",
       "      <th>2</th>\n",
       "      <td>2</td>\n",
       "      <td>Data Scientist</td>\n",
       "      <td>OverviewAnalysis Group is one of the largest i...</td>\n",
       "      <td>3.8</td>\n",
       "      <td>Analysis Group</td>\n",
       "      <td>1001 to 5000 employees</td>\n",
       "      <td>Private Practice / Firm</td>\n",
       "      <td>Consulting</td>\n",
       "      <td>Business Services</td>\n",
       "      <td>$100 to $500 million (USD)</td>\n",
       "      <td>137000.0</td>\n",
       "      <td>171000.0</td>\n",
       "      <td>154000.0</td>\n",
       "      <td>Boston</td>\n",
       "      <td>MA</td>\n",
       "      <td>Boston</td>\n",
       "      <td>MA</td>\n",
       "      <td>42</td>\n",
       "      <td>Data Scientist</td>\n",
       "      <td>25 to 999 Million USD</td>\n",
       "    </tr>\n",
       "    <tr>\n",
       "      <th>3</th>\n",
       "      <td>3</td>\n",
       "      <td>Data Scientist</td>\n",
       "      <td>JOB DESCRIPTION:Do you have a passion for Data...</td>\n",
       "      <td>3.5</td>\n",
       "      <td>INFICON</td>\n",
       "      <td>501 to 1000 employees</td>\n",
       "      <td>Company - Public</td>\n",
       "      <td>Electrical &amp; Electronic Manufacturing</td>\n",
       "      <td>Manufacturing</td>\n",
       "      <td>$100 to $500 million (USD)</td>\n",
       "      <td>137000.0</td>\n",
       "      <td>171000.0</td>\n",
       "      <td>154000.0</td>\n",
       "      <td>Newton</td>\n",
       "      <td>MA</td>\n",
       "      <td>Bad Ragaz</td>\n",
       "      <td>Switzerland</td>\n",
       "      <td>23</td>\n",
       "      <td>Data Scientist</td>\n",
       "      <td>25 to 999 Million USD</td>\n",
       "    </tr>\n",
       "    <tr>\n",
       "      <th>4</th>\n",
       "      <td>4</td>\n",
       "      <td>Data Scientist</td>\n",
       "      <td>Data ScientistAffinity Solutions / Marketing C...</td>\n",
       "      <td>2.9</td>\n",
       "      <td>Affinity Solutions</td>\n",
       "      <td>51 to 200 employees</td>\n",
       "      <td>Company - Private</td>\n",
       "      <td>Advertising &amp; Marketing</td>\n",
       "      <td>Business Services</td>\n",
       "      <td>Unknown / Non-Applicable</td>\n",
       "      <td>137000.0</td>\n",
       "      <td>171000.0</td>\n",
       "      <td>154000.0</td>\n",
       "      <td>New York</td>\n",
       "      <td>NY</td>\n",
       "      <td>New York</td>\n",
       "      <td>NY</td>\n",
       "      <td>25</td>\n",
       "      <td>Data Scientist</td>\n",
       "      <td>Unknown</td>\n",
       "    </tr>\n",
       "  </tbody>\n",
       "</table>\n",
       "</div>"
      ],
      "text/plain": [
       "   index          Job_Title  \\\n",
       "0      0  Sr Data Scientist   \n",
       "1      1     Data Scientist   \n",
       "2      2     Data Scientist   \n",
       "3      3     Data Scientist   \n",
       "4      4     Data Scientist   \n",
       "\n",
       "                                     Job_Description  Rating  \\\n",
       "0  DescriptionThe Senior Data Scientist is respon...     3.1   \n",
       "1  Secure our Nation, Ignite your FutureJoin the ...     4.2   \n",
       "2  OverviewAnalysis Group is one of the largest i...     3.8   \n",
       "3  JOB DESCRIPTION:Do you have a passion for Data...     3.5   \n",
       "4  Data ScientistAffinity Solutions / Marketing C...     2.9   \n",
       "\n",
       "         Company_Name                     Size        Type_of_ownership  \\\n",
       "0         Healthfirst   1001 to 5000 employees   Nonprofit Organization   \n",
       "1             ManTech  5001 to 10000 employees         Company - Public   \n",
       "2      Analysis Group   1001 to 5000 employees  Private Practice / Firm   \n",
       "3             INFICON    501 to 1000 employees         Company - Public   \n",
       "4  Affinity Solutions      51 to 200 employees        Company - Private   \n",
       "\n",
       "                                Industry             Sector  \\\n",
       "0                     Insurance Carriers          Insurance   \n",
       "1                 Research & Development  Business Services   \n",
       "2                             Consulting  Business Services   \n",
       "3  Electrical & Electronic Manufacturing      Manufacturing   \n",
       "4                Advertising & Marketing  Business Services   \n",
       "\n",
       "                      Revenue  Minimum_Salary  Maximum_Salary  Average_Salary  \\\n",
       "0    Unknown / Non-Applicable        137000.0        171000.0        154000.0   \n",
       "1      $1 to $2 billion (USD)        137000.0        171000.0        154000.0   \n",
       "2  $100 to $500 million (USD)        137000.0        171000.0        154000.0   \n",
       "3  $100 to $500 million (USD)        137000.0        171000.0        154000.0   \n",
       "4    Unknown / Non-Applicable        137000.0        171000.0        154000.0   \n",
       "\n",
       "        City Job State    HQ_City   Country_HQ  company_age  job_title_simp  \\\n",
       "0   New York        NY   New York           NY           30  Data Scientist   \n",
       "1  Chantilly        VA    Herndon           VA           55  Data Scientist   \n",
       "2     Boston        MA     Boston           MA           42  Data Scientist   \n",
       "3     Newton        MA  Bad Ragaz  Switzerland           23  Data Scientist   \n",
       "4   New York        NY   New York           NY           25  Data Scientist   \n",
       "\n",
       "        Revenue_Category  \n",
       "0                Unknown  \n",
       "1   1 to 10+ Billion USD  \n",
       "2  25 to 999 Million USD  \n",
       "3  25 to 999 Million USD  \n",
       "4                Unknown  "
      ]
     },
     "execution_count": 38,
     "metadata": {},
     "output_type": "execute_result"
    }
   ],
   "source": [
    "df.head(5)"
   ]
  },
  {
   "cell_type": "code",
   "execution_count": null,
   "id": "9a451c0f-2f6c-46b1-b6fa-f106430831fa",
   "metadata": {
    "tags": []
   },
   "outputs": [
    {
     "name": "stdout",
     "output_type": "stream",
     "text": [
      "<class 'pandas.core.frame.DataFrame'>\n",
      "Index: 664 entries, 0 to 671\n",
      "Data columns (total 20 columns):\n",
      " #   Column             Non-Null Count  Dtype  \n",
      "---  ------             --------------  -----  \n",
      " 0   index              664 non-null    int64  \n",
      " 1   Job_Title          664 non-null    object \n",
      " 2   Job_Description    664 non-null    object \n",
      " 3   Rating             664 non-null    float64\n",
      " 4   Company_Name       664 non-null    object \n",
      " 5   Size               664 non-null    object \n",
      " 6   Type_of_ownership  664 non-null    object \n",
      " 7   Industry           664 non-null    object \n",
      " 8   Sector             664 non-null    object \n",
      " 9   Revenue            664 non-null    object \n",
      " 10  Minimum_Salary     664 non-null    float64\n",
      " 11  Maximum_Salary     664 non-null    float64\n",
      " 12  Average_Salary     664 non-null    float64\n",
      " 13  City               664 non-null    object \n",
      " 14  Job State          664 non-null    object \n",
      " 15  HQ_City            664 non-null    object \n",
      " 16  Country_HQ         633 non-null    object \n",
      " 17  company_age        664 non-null    int64  \n",
      " 18  job_title_simp     664 non-null    object \n",
      " 19  Revenue_Category   664 non-null    object \n",
      "dtypes: float64(4), int64(2), object(14)\n",
      "memory usage: 108.9+ KB\n"
     ]
    }
   ],
   "source": [
    "df.info()"
   ]
  },
  {
   "cell_type": "code",
   "execution_count": null,
   "id": "c9cd1b59-794f-40ea-8361-4febb142c850",
   "metadata": {
    "tags": []
   },
   "outputs": [],
   "source": [
    "#Export to CSV\n",
    "df.to_csv('GD_DS_Jobs_cleaned.csv', index=False)"
   ]
  },
  {
   "cell_type": "code",
   "execution_count": null,
   "id": "96bcef03-53d5-45dd-b7b4-d7b573ce4651",
   "metadata": {},
   "outputs": [],
   "source": []
  }
 ],
 "metadata": {
  "kernelspec": {
   "display_name": "Python 3 (ipykernel)",
   "language": "python",
   "name": "python3"
  },
  "language_info": {
   "codemirror_mode": {
    "name": "ipython",
    "version": 3
   },
   "file_extension": ".py",
   "mimetype": "text/x-python",
   "name": "python",
   "nbconvert_exporter": "python",
   "pygments_lexer": "ipython3",
   "version": "3.11.5"
  },
  "toc-autonumbering": true,
  "toc-showcode": true,
  "toc-showmarkdowntxt": true,
  "toc-showtags": true
 },
 "nbformat": 4,
 "nbformat_minor": 5
}
